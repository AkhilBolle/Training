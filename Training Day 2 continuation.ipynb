{
 "cells": [
  {
   "cell_type": "code",
   "execution_count": 12,
   "id": "c11884b9",
   "metadata": {},
   "outputs": [
    {
     "name": "stdout",
     "output_type": "stream",
     "text": [
      "Difference = 285\n"
     ]
    }
   ],
   "source": [
    "divisible=0\n",
    "notdivisible=0\n",
    "diff=0\n",
    "for i in range (1,31):\n",
    "    if i%6==0:\n",
    "        divisible=divisible+i\n",
    "    else:\n",
    "        notdivisible=notdivisible+i\n",
    "diff=notdivisible-divisible\n",
    "print(\"Difference =\",diff)"
   ]
  },
  {
   "cell_type": "code",
   "execution_count": 19,
   "id": "33f54ad0",
   "metadata": {},
   "outputs": [
    {
     "name": "stdout",
     "output_type": "stream",
     "text": [
      "Enter a Number = 1441\n",
      "The Number is Palindrome number\n"
     ]
    }
   ],
   "source": [
    "n=int(input(\"Enter a Number = \"))\n",
    "temp=n\n",
    "result=0\n",
    "while (n>0):\n",
    "    a=n%10\n",
    "    result=result*10+a\n",
    "    n=n//10\n",
    "if temp==result:\n",
    "    print(\"The Number is Palindrome number\")\n",
    "else :\n",
    "    print(\"The Number is not a palindrome number\")"
   ]
  },
  {
   "cell_type": "code",
   "execution_count": 20,
   "id": "719ede06",
   "metadata": {},
   "outputs": [
    {
     "data": {
      "text/plain": [
       "144"
      ]
     },
     "execution_count": 20,
     "metadata": {},
     "output_type": "execute_result"
    }
   ],
   "source": [
    "n=1441\n",
    "n//10"
   ]
  },
  {
   "cell_type": "code",
   "execution_count": 21,
   "id": "273d59c0",
   "metadata": {},
   "outputs": [
    {
     "name": "stdout",
     "output_type": "stream",
     "text": [
      "Enter a number: 123\n",
      "123 is not an Armstrong number\n"
     ]
    }
   ],
   "source": [
    "def is_armstrong_number(number):\n",
    "  \"\"\"\n",
    "  Checks if a given number is an Armstrong number using a while loop.\n",
    "\n",
    "  Args:\n",
    "      number: The integer to be checked.\n",
    "\n",
    "  Returns:\n",
    "      True if the number is an Armstrong number, False otherwise.\n",
    "  \"\"\"\n",
    "\n",
    "  original_number = number\n",
    "  sum_of_digits = 0\n",
    "  temp = number  # Create a copy of the number for manipulation\n",
    "\n",
    "  # Count digits efficiently (avoid string conversion)\n",
    "  count_digits = 0\n",
    "  while temp > 0:\n",
    "    temp //= 10\n",
    "    count_digits += 1\n",
    "\n",
    "  # Calculate sum of digit powers using a while loop\n",
    "  temp = number\n",
    "  while temp > 0:\n",
    "    digit = temp % 10\n",
    "    sum_of_digits += digit ** count_digits\n",
    "    temp //= 10\n",
    "\n",
    "  return sum_of_digits == original_number\n",
    "\n",
    "# Example usage\n",
    "num = int(input(\"Enter a number: \"))\n",
    "if is_armstrong_number(num):\n",
    "  print(f\"{num} is an Armstrong number\")\n",
    "else:\n",
    "  print(f\"{num} is not an Armstrong number\")\n"
   ]
  },
  {
   "cell_type": "code",
   "execution_count": null,
   "id": "8f6648d6",
   "metadata": {},
   "outputs": [
    {
     "name": "stdout",
     "output_type": "stream",
     "text": [
      "Enter the Number = 153\n"
     ]
    }
   ],
   "source": [
    "num=int(input(\"Enter the Number = \"))\n",
    "temp=num\n",
    "org=temp\n",
    "sod=0\n",
    "digit=0\n",
    "nod=0\n",
    "while num>0:\n",
    "    nod=nod+1\n",
    "    num=n//10\n",
    "while temp>0:\n",
    "    digit=temp%10\n",
    "    sod=sod(digit**nod)\n",
    "    temp=temp//10\n",
    "    if sod==org:\n",
    "        print(\"Amstrong Number\")\n",
    "    else:\n",
    "        print(\"Not an amstrong Number\")\n",
    "    "
   ]
  },
  {
   "cell_type": "code",
   "execution_count": 2,
   "id": "f5f89b65",
   "metadata": {},
   "outputs": [
    {
     "name": "stdout",
     "output_type": "stream",
     "text": [
      "  * * * * * \n",
      "    * * * * \n",
      "      * * * \n",
      "        * * \n",
      "          * \n"
     ]
    }
   ],
   "source": [
    "n=5\n",
    "for i in range (n):\n",
    "    for j in range (i+1):\n",
    "        print(\" \",end=\" \")\n",
    "    for j in range (i,n):\n",
    "        print(\"*\",end=\" \")\n",
    "    print()"
   ]
  },
  {
   "cell_type": "code",
   "execution_count": null,
   "id": "f4d77e8e",
   "metadata": {},
   "outputs": [],
   "source": []
  }
 ],
 "metadata": {
  "kernelspec": {
   "display_name": "Python 3 (ipykernel)",
   "language": "python",
   "name": "python3"
  },
  "language_info": {
   "codemirror_mode": {
    "name": "ipython",
    "version": 3
   },
   "file_extension": ".py",
   "mimetype": "text/x-python",
   "name": "python",
   "nbconvert_exporter": "python",
   "pygments_lexer": "ipython3",
   "version": "3.11.5"
  }
 },
 "nbformat": 4,
 "nbformat_minor": 5
}
