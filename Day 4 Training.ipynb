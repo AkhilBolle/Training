{
 "cells": [
  {
   "cell_type": "code",
   "execution_count": 36,
   "id": "ddb8c91b",
   "metadata": {},
   "outputs": [
    {
     "name": "stdout",
     "output_type": "stream",
     "text": [
      "[22, 1, 42, 65, -4, -1, 6]\n"
     ]
    }
   ],
   "source": [
    "list1=[22,1,42,65,-4,-1,6]\n",
    "print(list1)"
   ]
  },
  {
   "cell_type": "code",
   "execution_count": 38,
   "id": "f351616c",
   "metadata": {},
   "outputs": [
    {
     "name": "stdout",
     "output_type": "stream",
     "text": [
      "[22, 1, 42, 65, -4, -1, 6]\n",
      "-1\n"
     ]
    }
   ],
   "source": [
    "print(list1)\n",
    "m1=list1[0]\n",
    "m2=list1[0]\n",
    "for i in list1:\n",
    "    if i<m1:\n",
    "        m1=i\n",
    "for i in list1:\n",
    "    if i<m2 and i!=m1:\n",
    "        m2=i\n",
    "print(m2)"
   ]
  },
  {
   "cell_type": "code",
   "execution_count": 41,
   "id": "2832a5f3",
   "metadata": {},
   "outputs": [
    {
     "name": "stdout",
     "output_type": "stream",
     "text": [
      "-1\n"
     ]
    }
   ],
   "source": [
    "m1=list1[0]\n",
    "m2=list1[0]\n",
    "for i in list1:\n",
    "    if i<m1:\n",
    "        m2=m1\n",
    "        m1=i\n",
    "    elif m2>i and m2>m1:\n",
    "        m2=i\n",
    "print(m2)"
   ]
  },
  {
   "cell_type": "code",
   "execution_count": 44,
   "id": "499e42ba",
   "metadata": {},
   "outputs": [
    {
     "name": "stdout",
     "output_type": "stream",
     "text": [
      "{1, 2, 3.5, 4, 5, 6, 7, 8, 'Akhil'}\n"
     ]
    }
   ],
   "source": [
    "myset={1,2,8,4,5,6,\"Akhil\",7,3.5}\n",
    "print(myset)"
   ]
  },
  {
   "cell_type": "code",
   "execution_count": 46,
   "id": "a938ee26",
   "metadata": {},
   "outputs": [
    {
     "name": "stdout",
     "output_type": "stream",
     "text": [
      "{1, 2, 3.5, 4, 5, 6, 7, 8, 456, 'Akhil'}\n"
     ]
    }
   ],
   "source": [
    "myset.add(456)\n",
    "print(myset)"
   ]
  },
  {
   "cell_type": "code",
   "execution_count": 49,
   "id": "ed962f7d",
   "metadata": {},
   "outputs": [
    {
     "name": "stdout",
     "output_type": "stream",
     "text": [
      "<class 'frozenset'>\n",
      "frozenset({1, 2, 3.5, 4, 5, 6, 7, 8, 456, 'Akhil'})\n"
     ]
    }
   ],
   "source": [
    "fs=frozenset(myset)\n",
    "print(type(fs))\n",
    "print(fs)"
   ]
  },
  {
   "cell_type": "code",
   "execution_count": 50,
   "id": "ff485f3c",
   "metadata": {},
   "outputs": [
    {
     "name": "stdout",
     "output_type": "stream",
     "text": [
      "[2, 0, 1024, 0, 40, 230, 0]\n"
     ]
    }
   ],
   "source": [
    "l=[2,0,1024,0,40,230,0]\n",
    "print(l)"
   ]
  },
  {
   "cell_type": "code",
   "execution_count": 75,
   "id": "2afc9cdf",
   "metadata": {},
   "outputs": [
    {
     "name": "stdout",
     "output_type": "stream",
     "text": [
      "[2, 1024, 40, 230, 0, 0, 0]\n"
     ]
    }
   ],
   "source": [
    "l2=[]\n",
    "count=0\n",
    "for i in l:\n",
    "    if i==0:\n",
    "        count+=1\n",
    "    else:\n",
    "        l2=l2+[i]\n",
    "for i in range(i,count):\n",
    "    l2=l2+[0]\n",
    "print(l2)\n",
    "        "
   ]
  },
  {
   "cell_type": "markdown",
   "id": "a279caf6",
   "metadata": {},
   "source": [
    "Create a class f15 with functions lights fans and AC\n",
    "Lights:when its called it prints out the colour of the light which Is taken as parameter too the function \n",
    "Fan: When fan function is called it is displayed  the regulator speed , which is taken as the parameter for the function \n",
    "Ac Displays the room temp and the out side temp which are taken as parameters \n",
    "Display: which displays the diff in outside temp and room temp in AC and also it displays the fan speed"
   ]
  },
  {
   "cell_type": "code",
   "execution_count": 5,
   "id": "b6fc4c3b",
   "metadata": {},
   "outputs": [
    {
     "name": "stdout",
     "output_type": "stream",
     "text": [
      "Welcome\n",
      "Enter the Color = Green\n",
      "The color is Green\n",
      "Enter the Fan Speed = 6\n",
      "The speed is 6\n",
      "Enter room Temp = 54\n",
      "Enter os Temp =3\n",
      "The room Temperature is 54 The outside Temperature is 3\n",
      "51\n",
      "start  9 End 4\n",
      "6\n"
     ]
    }
   ],
   "source": [
    "class f15:\n",
    "    def __init__(self,a,b):\n",
    "        print(\"Welcome\")\n",
    "        self.a=a\n",
    "        self.b=b\n",
    "    def light (self,color):\n",
    "        print(\"The color is\",color)\n",
    "    def fan (self,speed):\n",
    "        self.speed=speed\n",
    "        print(\"The speed is\",speed)\n",
    "    def AC (self,temperature1,temperature2):\n",
    "        self.temperature1=temperature1\n",
    "        self.temperature2=temperature2\n",
    "        print(\"The room Temperature is\",temperature1,\"The outside Temperature is\",temperature2)\n",
    "    def display(self):\n",
    "        diff=self.temperature1-self.temperature2\n",
    "        print(diff)\n",
    "        print(\"start \",self.a,\"End\",self.b)\n",
    "        print(self.speed)\n",
    "        \n",
    "obj=f15(9,4)\n",
    "obj.light(color=(str(input(\"Enter the Color = \"))))\n",
    "obj.fan(int(input(\"Enter the Fan Speed = \")))\n",
    "temperature1=input(\"Enter room Temp = \")\n",
    "temperature2=input(\"Enter os Temp =\")\n",
    "obj.AC(int(temperature1),int(temperature2))\n",
    "obj.display()\n",
    "        "
   ]
  },
  {
   "cell_type": "code",
   "execution_count": 3,
   "id": "61c9276e",
   "metadata": {},
   "outputs": [
    {
     "name": "stdout",
     "output_type": "stream",
     "text": [
      "The class Start end time is  9 4\n"
     ]
    }
   ],
   "source": [
    "class f16:\n",
    "    def __init__(self,a,b):\n",
    "        print(\"The class Start end time is \",a,b)\n",
    "obj=f16(9,4)"
   ]
  }
 ],
 "metadata": {
  "kernelspec": {
   "display_name": "Python 3 (ipykernel)",
   "language": "python",
   "name": "python3"
  },
  "language_info": {
   "codemirror_mode": {
    "name": "ipython",
    "version": 3
   },
   "file_extension": ".py",
   "mimetype": "text/x-python",
   "name": "python",
   "nbconvert_exporter": "python",
   "pygments_lexer": "ipython3",
   "version": "3.11.5"
  }
 },
 "nbformat": 4,
 "nbformat_minor": 5
}
