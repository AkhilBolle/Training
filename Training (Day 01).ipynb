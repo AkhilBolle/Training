{
 "cells": [
  {
   "cell_type": "code",
   "execution_count": 4,
   "id": "2b0d9b79",
   "metadata": {},
   "outputs": [
    {
     "name": "stdout",
     "output_type": "stream",
     "text": [
      "Enter the value of a13\n",
      "Enter the value of b7\n",
      "6\n",
      "1\n"
     ]
    }
   ],
   "source": [
    "a=int(input(\"Enter the value of a\"))\n",
    "b=int(input(\"Enter the value of b\"))\n",
    "c=a%b\n",
    "d=a//b\n",
    "print(c)\n",
    "print(d)"
   ]
  },
  {
   "cell_type": "code",
   "execution_count": 17,
   "id": "999c5120",
   "metadata": {},
   "outputs": [
    {
     "name": "stdout",
     "output_type": "stream",
     "text": [
      "<class 'int'>\n",
      "<class 'str'>\n",
      "<class 'float'>\n",
      "<class 'bool'>\n",
      "<class 'complex'>\n"
     ]
    }
   ],
   "source": [
    "a=7\n",
    "b='Akhil'\n",
    "c=8.06\n",
    "d=True\n",
    "e=(7+5j)\n",
    "print(type(a))\n",
    "print(type(b))\n",
    "print(type(c))\n",
    "print(type(d))\n",
    "print(type(e))"
   ]
  },
  {
   "cell_type": "code",
   "execution_count": 2,
   "id": "47f44843",
   "metadata": {},
   "outputs": [
    {
     "name": "stdout",
     "output_type": "stream",
     "text": [
      "Enter the value of a =2.5\n",
      "Enter the value of b =3.5\n",
      "8\n"
     ]
    }
   ],
   "source": [
    "a=float(input(\"Enter the value of a =\"))\n",
    "b=float(input(\"Enter the value of b =\"))\n",
    "a=(int(a))\n",
    "b=(int(b))\n",
    "c=a**b\n",
    "print(c)"
   ]
  },
  {
   "cell_type": "code",
   "execution_count": 16,
   "id": "df4287b1",
   "metadata": {},
   "outputs": [
    {
     "name": "stdout",
     "output_type": "stream",
     "text": [
      "Enter age =24\n",
      "you are elegible\n"
     ]
    }
   ],
   "source": [
    "age=int(input(\"Enter age =\"))\n",
    "if age>18:\n",
    "    print(\"you are elegible\")\n",
    "else:\n",
    "    Print(\"Not Eligible\")"
   ]
  },
  {
   "cell_type": "code",
   "execution_count": 1,
   "id": "32dee504",
   "metadata": {},
   "outputs": [
    {
     "name": "stdout",
     "output_type": "stream",
     "text": [
      "Enter a number=36\n",
      "Good Number\n"
     ]
    }
   ],
   "source": [
    "number=int(input(\"Enter a number=\"))\n",
    "if (number%3==0 and number%6==0):\n",
    "    print(\"Good Number\")\n",
    "elif (number%2==0 and number%7==0):\n",
    "    print(\"Average Number\")\n",
    "elif (number%4==0 or number%9==0):\n",
    "    print(\"Awesome Number\")\n",
    "else:\n",
    "    print(\"Bad Number\")"
   ]
  },
  {
   "cell_type": "code",
   "execution_count": 9,
   "id": "ee3e3e3d",
   "metadata": {},
   "outputs": [
    {
     "name": "stdout",
     "output_type": "stream",
     "text": [
      "Enter the price of the Bike=200001\n",
      "326001.63\n"
     ]
    }
   ],
   "source": [
    "price=int(input(\"Enter the price of the Bike=\"))\n",
    "if price>72000 and price<150000:\n",
    "    incometax=72000*0.10\n",
    "    insurance=price*0.15\n",
    "    onroadprice=price+incometax+insurance\n",
    "    print(onroadprice)\n",
    "elif price>150000 and price<200000:\n",
    "    incometax=price*0.25\n",
    "    insurance=price*0.25\n",
    "    onroadprice=price+incometax+insurance\n",
    "    print(onroadprice)\n",
    "elif price>200000:\n",
    "    incometax=price*0.35\n",
    "    insurance=price*0.28\n",
    "    onroadprice=price+incometax+insurance\n",
    "    print(onroadprice)\n",
    "else :\n",
    "    print(\"The Price starts from \")"
   ]
  },
  {
   "cell_type": "code",
   "execution_count": 1,
   "id": "e90be46b",
   "metadata": {},
   "outputs": [
    {
     "name": "stdout",
     "output_type": "stream",
     "text": [
      "Enter the Year2024\n",
      "It is a Leap Year\n"
     ]
    }
   ],
   "source": [
    "year=int(input(\"Enter the Year\"))\n",
    "if (year%4==0 and year%100!=0) or year%400==0:\n",
    "    print(\"It is a Leap Year\")\n",
    "else:\n",
    "    print(\"it is not a leap year\")\n",
    "    "
   ]
  },
  {
   "cell_type": "code",
   "execution_count": 1,
   "id": "f8694623",
   "metadata": {},
   "outputs": [
    {
     "name": "stdout",
     "output_type": "stream",
     "text": [
      "Enter the length of a=12\n",
      "Enter the length of b=13\n",
      "Enter the length of c=14\n",
      "The Traingle is a scalene triangle\n"
     ]
    }
   ],
   "source": [
    "a=int(input(\"Enter the length of a=\"))\n",
    "b=int(input(\"Enter the length of b=\"))\n",
    "c=int(input(\"Enter the length of c=\"))\n",
    "if a==b or b==c or a==c :\n",
    "    print(\"The Triangle is an Isosceles Triangle\")\n",
    "elif a==b==c:\n",
    "    print(\"The Triangle is an  equilateral Triangle\")\n",
    "else :\n",
    "    print(\"The Traingle is a scalene triangle\")"
   ]
  },
  {
   "cell_type": "code",
   "execution_count": 11,
   "id": "dc5b9ab6",
   "metadata": {},
   "outputs": [
    {
     "name": "stdout",
     "output_type": "stream",
     "text": [
      "5040\n"
     ]
    }
   ],
   "source": [
    "b=1\n",
    "for i in range(1,8):\n",
    "    b=b*i\n",
    "print(b)"
   ]
  },
  {
   "cell_type": "code",
   "execution_count": 33,
   "id": "713eac88",
   "metadata": {},
   "outputs": [
    {
     "name": "stdout",
     "output_type": "stream",
     "text": [
      "0\n",
      "1\n",
      "1\n",
      "2\n",
      "3\n",
      "5\n",
      "8\n",
      "13\n",
      "21\n",
      "34\n"
     ]
    }
   ],
   "source": [
    "a=0\n",
    "b=1\n",
    "print(a)\n",
    "print(b)\n",
    "for i in range (3,11):\n",
    "    c=a+b\n",
    "    print(c)\n",
    "    a=b\n",
    "    b=c\n",
    "    \n",
    "    \n",
    "\n",
    "\n",
    "\n",
    "\n"
   ]
  },
  {
   "cell_type": "code",
   "execution_count": 11,
   "id": "94b3e497",
   "metadata": {},
   "outputs": [
    {
     "name": "stdout",
     "output_type": "stream",
     "text": [
      "Enter the Number = 23\n",
      "Prime Number\n"
     ]
    }
   ],
   "source": [
    "number=int(input(\"Enter the Number = \"))\n",
    "temp=0\n",
    "for i in range(2,number):\n",
    "    if number%i==0:\n",
    "        temp = 1\n",
    "        break\n",
    "if temp==1:\n",
    "    print(\"Not a prime Number\")\n",
    "else:\n",
    "    print(\"Prime Number\")"
   ]
  },
  {
   "cell_type": "code",
   "execution_count": null,
   "id": "065a3e32",
   "metadata": {},
   "outputs": [],
   "source": []
  }
 ],
 "metadata": {
  "kernelspec": {
   "display_name": "Python 3 (ipykernel)",
   "language": "python",
   "name": "python3"
  },
  "language_info": {
   "codemirror_mode": {
    "name": "ipython",
    "version": 3
   },
   "file_extension": ".py",
   "mimetype": "text/x-python",
   "name": "python",
   "nbconvert_exporter": "python",
   "pygments_lexer": "ipython3",
   "version": "3.11.5"
  }
 },
 "nbformat": 4,
 "nbformat_minor": 5
}
