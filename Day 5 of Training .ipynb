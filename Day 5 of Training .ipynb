{
 "cells": [
  {
   "cell_type": "code",
   "execution_count": 5,
   "id": "a011a0fc",
   "metadata": {},
   "outputs": [
    {
     "name": "stdout",
     "output_type": "stream",
     "text": [
      "faculty Details  Akkil IT 1235\n",
      "faculty Details  Adarsh IT 1246\n"
     ]
    }
   ],
   "source": [
    "class Faculty:\n",
    "    def __init__ (self,f_name,f_dept,f_id):\n",
    "        self.f_name=f_name\n",
    "        self.f_dept=f_dept\n",
    "        self.f_id=f_id\n",
    "    def display(self):\n",
    "        print(\"faculty Details \",self.f_name,self.f_dept,self.f_id)\n",
    "obj= Faculty(\"Akkil\",\"IT\",1235)\n",
    "obj.display()\n",
    "class IT(Faculty):\n",
    "    pass\n",
    "obj=IT(\"Adarsh\",\"IT\",1246)\n",
    "obj.display()"
   ]
  },
  {
   "cell_type": "code",
   "execution_count": 56,
   "id": "6a5d8a57",
   "metadata": {},
   "outputs": [
    {
     "name": "stdout",
     "output_type": "stream",
     "text": [
      "Welcome to Pragati Engineering College\n",
      "The Departments are\n",
      " IT\n",
      " CSE\n",
      " CIVIL\n",
      " MECH\n",
      "The Placements are 1170 & Still Counting\n"
     ]
    }
   ],
   "source": [
    "class placements:\n",
    "    def info(self):\n",
    "        print(\"The Placements are 1170 & Still Counting\")\n",
    "class dept:\n",
    "    def display(self):\n",
    "        print(\"The Departments are\\n\",\"IT\\n\",\"CSE\\n\",\"CIVIL\\n\",\"MECH\")\n",
    "class pragati(placements,dept):\n",
    "    pass\n",
    "    def welcome(self):\n",
    "        print(\"Welcome to Pragati Engineering College\")\n",
    "obj=pragati()\n",
    "obj.welcome()\n",
    "obj.display()\n",
    "obj.info()\n",
    "        "
   ]
  },
  {
   "cell_type": "code",
   "execution_count": 61,
   "id": "09a1ae13",
   "metadata": {},
   "outputs": [
    {
     "name": "stdout",
     "output_type": "stream",
     "text": [
      "6\n"
     ]
    }
   ],
   "source": [
    "class Ar:\n",
    "    def add(self,a):\n",
    "        print(a)\n",
    "    def add(sefl,a,b):\n",
    "        print(a+b)\n",
    "    def add(self,a,b,c):\n",
    "        print(a+b+c)\n",
    "obj=Ar()\n",
    "obj.add(1,2,3)"
   ]
  },
  {
   "cell_type": "code",
   "execution_count": 62,
   "id": "37012026",
   "metadata": {},
   "outputs": [
    {
     "name": "stdout",
     "output_type": "stream",
     "text": [
      "RE classic 350\n",
      "I Phone 15 Pro Max\n"
     ]
    }
   ],
   "source": [
    "class father:\n",
    "    def bike(self):\n",
    "        print(\"RE classic 350\")\n",
    "    def phone(self):\n",
    "        print(\"oneplus\")\n",
    "class son(father):\n",
    "    def phone(self):\n",
    "        print(\"I Phone 15 Pro Max\")\n",
    "obj=son()\n",
    "obj.bike()\n",
    "obj.phone()\n",
    "    "
   ]
  },
  {
   "cell_type": "code",
   "execution_count": 22,
   "id": "05cf6db3",
   "metadata": {},
   "outputs": [
    {
     "name": "stdout",
     "output_type": "stream",
     "text": [
      "Which mode do you want to choose\n",
      " Trai\n",
      " Bus\n",
      " Flight\n",
      "Thank you for choosing Indigo\n",
      "Select the way1\n",
      "Enter the Return Date67\n",
      "Thank you for choosing IRCTC\n",
      "Thank you for choosing Make my Trip\n"
     ]
    }
   ],
   "source": [
    "from abc import ABC,abstractmethod\n",
    "class Ticket(ABC):\n",
    "    @abstractmethod\n",
    "    def book_ticket(self,name,phone_no,email,journey_date):\n",
    "        pass\n",
    "class make_my_trip(Ticket):\n",
    "    def book_ticket(self,name,phone_no,email,journey_date):\n",
    "        self.name=name\n",
    "        self.phone_no=phone_no\n",
    "        self.email=email\n",
    "        self.journey_date=journey_date\n",
    "        print(\"Thank you for choosing Make my Trip\")\n",
    "class irctc(make_my_trip):\n",
    "    def book_ticket(self,name,phone_no,email,journey_date):\n",
    "        self.i=(input(\"Select the way\"))\n",
    "        if (self.i==\"1\" or self.i==\"roundtrip\"):\n",
    "            self.j=input(\"Enter the Return Date\")\n",
    "            print(\"Thank you for choosing IRCTC\")\n",
    "        else:\n",
    "            print(\"Thank you for choosing IRCTC\")\n",
    "class indigo(irctc):\n",
    "    def book_ticket(self,name,phone_no,emil,journey_date):\n",
    "        print(\"Which mode do you want to choose\\n\",\"Trai\\n\",\"Bus\\n\",\"Flight\")\n",
    "        print(\"Thank you for choosing Indigo\")\n",
    "obj=indigo()\n",
    "obj1=irctc()\n",
    "obj2=make_my_trip()\n",
    "obj.book_ticket(\"Akhjil\",6301317875,\"akhilbolle7@gmail.com\",12)\n",
    "obj1.book_ticket(\"Akhil\",1234567456,\"asdfghuijhb@\",14)\n",
    "obj2.book_ticket(\"wefg\",234567867,\"sdfghjk\",145)\n",
    "\n",
    "        \n",
    "    \n",
    "    "
   ]
  },
  {
   "cell_type": "code",
   "execution_count": 25,
   "id": "06121094",
   "metadata": {},
   "outputs": [
    {
     "name": "stdout",
     "output_type": "stream",
     "text": [
      "thankyou for booking from mmt\n",
      "1.roundtrip or 2.oneway2\n",
      "tq for choosing irctc\n",
      "enter mode of transport: 1.train 2.flight 3.bus2\n",
      "thank you for choosing indigo\n"
     ]
    }
   ],
   "source": [
    "from abc import ABC,abstractmethod\n",
    "class ticket:\n",
    "    @abstractmethod\n",
    "    def bookticket(self,name,phno,email,jdate):\n",
    "        pass\n",
    "class makemytrip(ticket):\n",
    "    def bookticket(self,name,phno,email,jdate):\n",
    "        self.name=name\n",
    "        self.phno=phno\n",
    "        self.email=email\n",
    "        self.jdate=jdate\n",
    "        print(\"thankyou for booking from mmt\")\n",
    "class irctc(makemytrip):\n",
    "    def bookticket(self, name, phno, email, jdate):\n",
    "        self.jt=input(\"1.roundtrip or 2.oneway\")\n",
    "        if(self.jt==\"1\" or self.jt==\"roundtrip\"):\n",
    "            self.rt=input(\"enter return date:\")\n",
    "            print(\"tq for choosing irctc\")\n",
    "        else:\n",
    "            print(\"tq for choosing irctc\")\n",
    "class indigo(irctc):\n",
    "    def bookticket(self, name, phno, email, jdate):\n",
    "        self.mot=input(\"enter mode of transport: 1.train 2.flight 3.bus\")\n",
    "        print(\"thank you for choosing indigo\")\n",
    "\n",
    "obj=indigo()\n",
    "obj1=irctc()\n",
    "obj2=makemytrip()\n",
    "obj2.bookticket(\"sandeep\",799,\"sandeep@gmail\",\"12-09-12\")\n",
    "obj1.bookticket(\"sandeep\",799,\"sandeep@\",\"10-11\")\n",
    "obj.bookticket(\"sandeep\",799,\"sandeep@\",\"10-11\")"
   ]
  }
 ],
 "metadata": {
  "kernelspec": {
   "display_name": "Python 3 (ipykernel)",
   "language": "python",
   "name": "python3"
  },
  "language_info": {
   "codemirror_mode": {
    "name": "ipython",
    "version": 3
   },
   "file_extension": ".py",
   "mimetype": "text/x-python",
   "name": "python",
   "nbconvert_exporter": "python",
   "pygments_lexer": "ipython3",
   "version": "3.11.5"
  }
 },
 "nbformat": 4,
 "nbformat_minor": 5
}
