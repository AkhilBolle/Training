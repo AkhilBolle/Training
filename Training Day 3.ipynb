{
 "cells": [
  {
   "cell_type": "code",
   "execution_count": 10,
   "id": "2661fad4",
   "metadata": {},
   "outputs": [
    {
     "name": "stdout",
     "output_type": "stream",
     "text": [
      "3.4000000000000057\n"
     ]
    }
   ],
   "source": [
    "def first (a,b):\n",
    "    c=int(b)\n",
    "    c=c*a\n",
    "    print(c%10)\n",
    "first(123.4,True)"
   ]
  },
  {
   "cell_type": "code",
   "execution_count": 19,
   "id": "b6ac3ab2",
   "metadata": {},
   "outputs": [
    {
     "name": "stdout",
     "output_type": "stream",
     "text": [
      "A is 2 B is 3\n"
     ]
    }
   ],
   "source": [
    "def second(a,b):\n",
    "    print(\"A is\",a,\"B is\",b)\n",
    "second(b=3,a=2)"
   ]
  },
  {
   "cell_type": "code",
   "execution_count": 21,
   "id": "18fa747f",
   "metadata": {},
   "outputs": [
    {
     "name": "stdout",
     "output_type": "stream",
     "text": [
      "Name is Akhil I'm from Eluru\n",
      "Name is akhil I'm from eluru\n"
     ]
    }
   ],
   "source": [
    "def third(name=\"Akhil\",place=\"Eluru\"):\n",
    "    print(\"Name is\",name,\"I'm from\",place)\n",
    "third()\n",
    "third(name=\"akhil\",place=\"eluru\")"
   ]
  },
  {
   "cell_type": "code",
   "execution_count": 25,
   "id": "e5adb0e0",
   "metadata": {},
   "outputs": [
    {
     "name": "stdout",
     "output_type": "stream",
     "text": [
      "Name is {'name': 'Akhil'}\n"
     ]
    }
   ],
   "source": [
    "def fourth(**name):\n",
    "    print(\"Name is\",name)\n",
    "fourth(name=\"Akhil\")"
   ]
  },
  {
   "cell_type": "code",
   "execution_count": 6,
   "id": "30ae0c65",
   "metadata": {},
   "outputs": [
    {
     "name": "stdout",
     "output_type": "stream",
     "text": [
      "7\n"
     ]
    }
   ],
   "source": [
    "def sum(a):\n",
    "    b=a%10\n",
    "    while a>10:\n",
    "        a=a//10\n",
    "    final=b+a\n",
    "    print(final)\n",
    "sum(384)"
   ]
  },
  {
   "cell_type": "code",
   "execution_count": 11,
   "id": "7518b038",
   "metadata": {},
   "outputs": [
    {
     "name": "stdout",
     "output_type": "stream",
     "text": [
      "a\n",
      "b\n",
      "Wrong Username or Password\n",
      "Enter correct Credentials\n",
      "a\n",
      "a\n",
      "Login Successful\n"
     ]
    }
   ],
   "source": [
    "def login ():\n",
    "    while True:\n",
    "        username=input()\n",
    "        password=input() \n",
    "        if username==password:\n",
    "            print(\"Login Successful\")\n",
    "            break\n",
    "        else :\n",
    "            print(\"Wrong Username or Password\")\n",
    "            print(\"Enter correct Credentials\")\n",
    "login()"
   ]
  },
  {
   "cell_type": "code",
   "execution_count": 12,
   "id": "b99c2b00",
   "metadata": {},
   "outputs": [
    {
     "name": "stdout",
     "output_type": "stream",
     "text": [
      "a\n",
      "a\n",
      "Login Successful\n"
     ]
    }
   ],
   "source": [
    "login()"
   ]
  },
  {
   "cell_type": "code",
   "execution_count": 6,
   "id": "e173653e",
   "metadata": {},
   "outputs": [
    {
     "data": {
      "text/plain": [
       "120"
      ]
     },
     "execution_count": 6,
     "metadata": {},
     "output_type": "execute_result"
    }
   ],
   "source": [
    "def fact(n):\n",
    "    if n==0:\n",
    "        return 1\n",
    "    return n*fact(n-1)\n",
    "fact(5)"
   ]
  },
  {
   "cell_type": "code",
   "execution_count": 12,
   "id": "ef003c50",
   "metadata": {},
   "outputs": [
    {
     "name": "stdout",
     "output_type": "stream",
     "text": [
      "3\n"
     ]
    }
   ],
   "source": [
    "def fib(n):\n",
    "    if n==1:\n",
    "        return 0\n",
    "    if n==2:\n",
    "        return 1\n",
    "    return fib(n-1)+fib(n-2)\n",
    "a=fib(5)\n",
    "print(a)"
   ]
  },
  {
   "cell_type": "code",
   "execution_count": 8,
   "id": "4d1d7749",
   "metadata": {},
   "outputs": [
    {
     "name": "stdout",
     "output_type": "stream",
     "text": [
      "4\n",
      "3\n",
      "2\n",
      "1\n"
     ]
    }
   ],
   "source": [
    "def reverse(n):\n",
    "    if n==0:\n",
    "        return\n",
    "    print(n%10)    \n",
    "    return reverse(n//10)\n",
    "reverse(1234)"
   ]
  },
  {
   "cell_type": "code",
   "execution_count": 43,
   "id": "81d09012",
   "metadata": {},
   "outputs": [
    {
     "data": {
      "text/plain": [
       "4"
      ]
     },
     "execution_count": 43,
     "metadata": {},
     "output_type": "execute_result"
    }
   ],
   "source": [
    "def calculate(n):\n",
    "    if n<10:\n",
    "        return 1\n",
    "    return 1+calculate(n//10)\n",
    "calculate(1000)"
   ]
  },
  {
   "cell_type": "code",
   "execution_count": 44,
   "id": "14a5d66e",
   "metadata": {},
   "outputs": [
    {
     "data": {
      "text/plain": [
       "10"
      ]
     },
     "execution_count": 44,
     "metadata": {},
     "output_type": "execute_result"
    }
   ],
   "source": [
    "def calculate(n):\n",
    "    if n<10:\n",
    "        return 1\n",
    "    return n%10+calculate(n//10)\n",
    "calculate(1234)"
   ]
  },
  {
   "cell_type": "code",
   "execution_count": 17,
   "id": "981c2463",
   "metadata": {},
   "outputs": [
    {
     "name": "stdout",
     "output_type": "stream",
     "text": [
      "Enter a number = 153\n",
      "The Number is an amstrong number\n"
     ]
    }
   ],
   "source": [
    "n=int(input(\"Enter a number = \"))\n",
    "def value(n):\n",
    "    if n==0:\n",
    "        return 0\n",
    "    return 1+value(n//10)\n",
    "power=value(n)\n",
    "def number(n):\n",
    "    if n==0:\n",
    "        return 0\n",
    "    return (n%10)**power+number(n//10)\n",
    "b=number(n)\n",
    "if number(n==b):\n",
    "    print(\"The Number is an amstrong number\")\n",
    "else :\n",
    "    print(\"The Number is not an amstrong number\")\n"
   ]
  },
  {
   "cell_type": "code",
   "execution_count": 19,
   "id": "e0f98e70",
   "metadata": {},
   "outputs": [
    {
     "name": "stdout",
     "output_type": "stream",
     "text": [
      "[77, 2.35, 'Akhil', True]\n"
     ]
    }
   ],
   "source": [
    "list=[77,2.35,'Akhil',True]\n",
    "print (list)"
   ]
  },
  {
   "cell_type": "code",
   "execution_count": 22,
   "id": "d08e4503",
   "metadata": {},
   "outputs": [
    {
     "name": "stdout",
     "output_type": "stream",
     "text": [
      "[77, 2.35, 'Akhil', True]\n"
     ]
    }
   ],
   "source": [
    "print(list)"
   ]
  },
  {
   "cell_type": "code",
   "execution_count": 25,
   "id": "3b1446f9",
   "metadata": {},
   "outputs": [
    {
     "name": "stdout",
     "output_type": "stream",
     "text": [
      "[77, 2.35]\n"
     ]
    }
   ],
   "source": [
    "print (list[0:2])"
   ]
  },
  {
   "cell_type": "code",
   "execution_count": 26,
   "id": "976dc05c",
   "metadata": {},
   "outputs": [
    {
     "name": "stdout",
     "output_type": "stream",
     "text": [
      "77\n"
     ]
    }
   ],
   "source": [
    "print (list[0])"
   ]
  },
  {
   "cell_type": "code",
   "execution_count": 30,
   "id": "fec155a3",
   "metadata": {},
   "outputs": [
    {
     "name": "stdout",
     "output_type": "stream",
     "text": [
      "[77, 2.35, 'Akhil']\n"
     ]
    }
   ],
   "source": [
    "print(list[:3:])"
   ]
  },
  {
   "cell_type": "code",
   "execution_count": 31,
   "id": "8738fe12",
   "metadata": {},
   "outputs": [
    {
     "name": "stdout",
     "output_type": "stream",
     "text": [
      "[True, 'Akhil', 2.35, 77]\n"
     ]
    }
   ],
   "source": [
    "print (list[::-1])"
   ]
  },
  {
   "cell_type": "code",
   "execution_count": 35,
   "id": "4656c533",
   "metadata": {},
   "outputs": [
    {
     "name": "stdout",
     "output_type": "stream",
     "text": [
      "77\n",
      "2.35\n",
      "Akhil\n"
     ]
    }
   ],
   "source": [
    "for i in range (0,3):\n",
    "    print (list[i])"
   ]
  },
  {
   "cell_type": "code",
   "execution_count": 37,
   "id": "4c2f0120",
   "metadata": {},
   "outputs": [
    {
     "name": "stdout",
     "output_type": "stream",
     "text": [
      "[77, 'Indian', 'Akhil', True]\n"
     ]
    }
   ],
   "source": [
    "list[1]=\"Indian\"\n",
    "print(list)"
   ]
  },
  {
   "cell_type": "code",
   "execution_count": 42,
   "id": "45745560",
   "metadata": {},
   "outputs": [],
   "source": [
    "list.append(9)"
   ]
  },
  {
   "cell_type": "code",
   "execution_count": 43,
   "id": "870ced27",
   "metadata": {},
   "outputs": [
    {
     "name": "stdout",
     "output_type": "stream",
     "text": [
      "[77, 'Indian', 'Akhil', True, 1234, 1234, 123, 12, 9]\n"
     ]
    }
   ],
   "source": [
    "print(list)"
   ]
  },
  {
   "cell_type": "code",
   "execution_count": 46,
   "id": "934fc97d",
   "metadata": {},
   "outputs": [
    {
     "name": "stdout",
     "output_type": "stream",
     "text": [
      "[77, 'Indian', 'Akhil', True, 'Pragati', 1234, 1234, 123, 12, 9]\n"
     ]
    }
   ],
   "source": [
    "list.insert(4,\"Pragati\")\n",
    "print (list)"
   ]
  },
  {
   "cell_type": "code",
   "execution_count": 51,
   "id": "40d5657f",
   "metadata": {},
   "outputs": [
    {
     "name": "stdout",
     "output_type": "stream",
     "text": [
      "[77, 'Indian', 'Akhil', True, 'Pragati', 12, 9]\n"
     ]
    }
   ],
   "source": [
    "print(list)"
   ]
  },
  {
   "cell_type": "code",
   "execution_count": 3,
   "id": "2d640c20",
   "metadata": {},
   "outputs": [
    {
     "name": "stdout",
     "output_type": "stream",
     "text": [
      "[12, 42, 23, 96, 7, 18, 10, 133]\n"
     ]
    }
   ],
   "source": [
    "mylist=[12,42,23,96,7,18,10,133]\n",
    "print (mylist)"
   ]
  },
  {
   "cell_type": "code",
   "execution_count": 53,
   "id": "a98d34a3",
   "metadata": {},
   "outputs": [
    {
     "name": "stdout",
     "output_type": "stream",
     "text": [
      "7\n"
     ]
    }
   ],
   "source": [
    "print(min(mylist))"
   ]
  },
  {
   "cell_type": "code",
   "execution_count": 55,
   "id": "e6c13efd",
   "metadata": {},
   "outputs": [
    {
     "name": "stdout",
     "output_type": "stream",
     "text": [
      "140\n"
     ]
    }
   ],
   "source": [
    "print(min(mylist)+(max(mylist)))"
   ]
  },
  {
   "cell_type": "code",
   "execution_count": 4,
   "id": "46e56710",
   "metadata": {},
   "outputs": [
    {
     "name": "stdout",
     "output_type": "stream",
     "text": [
      "7\n",
      "133\n",
      "140\n",
      "-126\n",
      "140\n",
      "-126\n"
     ]
    }
   ],
   "source": [
    "least=mylist[0]\n",
    "highest=mylist[0]\n",
    "for i in mylist :\n",
    "    if i<least:\n",
    "        least=i\n",
    "    if i>highest:\n",
    "        highest=i\n",
    "print(least)\n",
    "print(highest)\n",
    "print(least+highest)\n",
    "print(least-highest)\n",
    "a=least+highest\n",
    "b=least-highest\n",
    "print(a)\n",
    "print(b)"
   ]
  },
  {
   "cell_type": "code",
   "execution_count": 84,
   "id": "71ad6838",
   "metadata": {},
   "outputs": [
    {
     "name": "stdout",
     "output_type": "stream",
     "text": [
      "[12, 42, 23, 96, -126, 18, 10, 140]\n"
     ]
    }
   ],
   "source": [
    "mylist[4]=b\n",
    "mylist[7]=a\n",
    "print(mylist)"
   ]
  },
  {
   "cell_type": "code",
   "execution_count": 101,
   "id": "b7cbc6ad",
   "metadata": {},
   "outputs": [
    {
     "name": "stdout",
     "output_type": "stream",
     "text": [
      "{0: 5, 'Bolle': 'Akhil', 3: 5, 7: 7}\n"
     ]
    }
   ],
   "source": [
    "dict={0:5,\"Bolle\":\"Akhil\",3:5,7:7}\n",
    "print(dict)"
   ]
  },
  {
   "cell_type": "code",
   "execution_count": 98,
   "id": "754bc10a",
   "metadata": {},
   "outputs": [
    {
     "name": "stdout",
     "output_type": "stream",
     "text": [
      "Akhil\n"
     ]
    }
   ],
   "source": [
    "print(dict[2])"
   ]
  }
 ],
 "metadata": {
  "kernelspec": {
   "display_name": "Python 3 (ipykernel)",
   "language": "python",
   "name": "python3"
  },
  "language_info": {
   "codemirror_mode": {
    "name": "ipython",
    "version": 3
   },
   "file_extension": ".py",
   "mimetype": "text/x-python",
   "name": "python",
   "nbconvert_exporter": "python",
   "pygments_lexer": "ipython3",
   "version": "3.11.5"
  }
 },
 "nbformat": 4,
 "nbformat_minor": 5
}
